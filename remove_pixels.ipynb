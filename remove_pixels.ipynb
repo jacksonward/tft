{
 "cells": [
  {
   "cell_type": "code",
   "execution_count": 1,
   "metadata": {},
   "outputs": [],
   "source": [
    "import cv2\n",
    "import numpy as np\n",
    "from PIL import Image\n",
    "\n",
    "def makeCutouts(mkvPath):\n",
    "    # Get filename, without extension\n",
    "    filename = mkvPath.split('\\\\')[-1].split('.')[0]\n",
    "\n",
    "    print(filename)\n",
    "    # Step 1\n",
    "    cap = cv2.VideoCapture(mkvPath)\n",
    "\n",
    "    # Set the frame number to skip. If you want every frame, set this to 1\n",
    "    frame_skip = 10\n",
    "\n",
    "    frame_count = 0\n",
    "\n",
    "    # define the RGB tuple for our color to be replaced\n",
    "    target_color = (0, 0, 0)  # black\n",
    "    tolerance = 50  # define your tolerance level\n",
    "\n",
    "    def color_within_tolerance(color_a, color_b, tolerance):\n",
    "        return sum((a - b) ** 2 for a, b in zip(color_a, color_b)) <= tolerance ** 2\n",
    "\n",
    "    while cap.isOpened():\n",
    "        ret, frame = cap.read()\n",
    "        if not ret:\n",
    "            break\n",
    "\n",
    "        frame_count += 1\n",
    "        if frame_count % frame_skip != 0:\n",
    "            continue\n",
    "\n",
    "        # Step 3\n",
    "        image = Image.fromarray(cv2.cvtColor(frame, cv2.COLOR_BGR2RGBA))\n",
    "\n",
    "        # Step 4\n",
    "        datas = image.getdata()\n",
    "\n",
    "        new_data = []\n",
    "        for item in datas:\n",
    "            if color_within_tolerance(item[:3], target_color, tolerance):\n",
    "                new_data.append((item[0], item[1], item[2], 0))  # Make transparent\n",
    "            else:\n",
    "                new_data.append(item)\n",
    "        image.putdata(new_data)\n",
    "\n",
    "        # Step 5\n",
    "        bbox = image.getbbox()\n",
    "        if bbox:\n",
    "            image = image.crop(bbox)\n",
    "\n",
    "        # Step 6\n",
    "        image.save(f'cutouts/{filename}/{filename}_{frame_count//frame_skip}.png')\n",
    "\n",
    "    cap.release()\n"
   ]
  },
  {
   "cell_type": "code",
   "execution_count": null,
   "metadata": {},
   "outputs": [],
   "source": [
    "# For every .mkv in model_recordings, make a cutout\n",
    "import os\n",
    "for file in os.listdir('model_recordings'):\n",
    "    if file.endswith('.mkv'):\n",
    "        makeCutouts(os.path.join('model_recordings', file))"
   ]
  },
  {
   "cell_type": "code",
   "execution_count": null,
   "metadata": {},
   "outputs": [],
   "source": [
    "from concurrent.futures import ProcessPoolExecutor\n",
    "import os\n",
    "directory = 'model_recordings'\n",
    "video_files = [os.path.join(directory, f) for f in os.listdir(directory) if os.path.isfile(os.path.join(directory, f))]\n",
    "with ProcessPoolExecutor() as executor:\n",
    "        print(video_files)\n",
    "        executor.map(makeCutouts, video_files)"
   ]
  },
  {
   "cell_type": "code",
   "execution_count": null,
   "metadata": {},
   "outputs": [],
   "source": [
    "# Or, in parallel\n",
    "from concurrent.futures import ProcessPoolExecutor\n",
    "with ProcessPoolExecutor() as executor:\n",
    "    for file in os.listdir('model_recordings'):\n",
    "        if file.endswith('.mkv'):\n",
    "            executor.submit(makeCutouts, os.path.join('model_recordings', file))\n"
   ]
  },
  {
   "cell_type": "code",
   "execution_count": null,
   "metadata": {},
   "outputs": [],
   "source": [
    "for file in os.listdir('model_recordings'):\n",
    "    # make a directory in cutouts for every .mkv\n",
    "    if file.endswith('.mkv'):\n",
    "        filename = file.split('.')[0]\n",
    "        os.mkdir(f'cutouts/{filename}')"
   ]
  }
 ],
 "metadata": {
  "kernelspec": {
   "display_name": "tft",
   "language": "python",
   "name": "python3"
  },
  "language_info": {
   "codemirror_mode": {
    "name": "ipython",
    "version": 3
   },
   "file_extension": ".py",
   "mimetype": "text/x-python",
   "name": "python",
   "nbconvert_exporter": "python",
   "pygments_lexer": "ipython3",
   "version": "3.10.11"
  },
  "orig_nbformat": 4
 },
 "nbformat": 4,
 "nbformat_minor": 2
}
