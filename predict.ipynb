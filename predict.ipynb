{
 "cells": [
  {
   "cell_type": "code",
   "execution_count": null,
   "metadata": {},
   "outputs": [],
   "source": [
    "from ultralytics import YOLO\n",
    "\n",
    "# Load the model.\n",
    "model = YOLO('best.pt')\n",
    "\n",
    "# Training.\n",
    "results = model.train(\n",
    "   data='tft/tft_yolov8.yaml',  \n",
    "   imgsz=1920,\n",
    "   epochs=50,\n",
    "   batch=8,\n",
    "   name='yolov8n_v8_50e'\n",
    ")"
   ]
  }
 ],
 "metadata": {
  "kernelspec": {
   "display_name": "tft",
   "language": "python",
   "name": "python3"
  },
  "language_info": {
   "name": "python",
   "version": "3.10.11"
  },
  "orig_nbformat": 4
 },
 "nbformat": 4,
 "nbformat_minor": 2
}
